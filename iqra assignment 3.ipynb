{
 "cells": [
  {
   "cell_type": "code",
   "execution_count": 1,
   "id": "ac573ccd",
   "metadata": {},
   "outputs": [
    {
     "name": "stdout",
     "output_type": "stream",
     "text": [
      "Twinkle, twinkle, little star\n",
      "\t How I wonder what you are !\n",
      "\t\t Up above the world so high,\n",
      "\t\t Like a diamond in the sky.\n",
      "Twinkle twinkle, little star,\n",
      "\t How I wonder what you are !\n"
     ]
    }
   ],
   "source": [
    "print(\"Twinkle, twinkle, little star\",)\n",
    "print(\"\\t How I wonder what you are !\")\n",
    "print(\"\\t\\t Up above the world so high,\")\n",
    "print(\"\\t\\t Like a diamond in the sky.\")\n",
    "print(\"Twinkle twinkle, little star,\")\n",
    "print(\"\\t How I wonder what you are !\")"
   ]
  },
  {
   "cell_type": "code",
   "execution_count": 2,
   "id": "3064db8a",
   "metadata": {},
   "outputs": [
    {
     "name": "stdout",
     "output_type": "stream",
     "text": [
      "system version\n",
      "3.8.8 (default, Apr 13 2021, 15:08:03) [MSC v.1916 64 bit (AMD64)]\n"
     ]
    }
   ],
   "source": [
    "# 2. Write a Python program to get the Python version you are using\n",
    "import sys\n",
    "print(\"system version\")\n",
    "print(sys.version)\n"
   ]
  },
  {
   "cell_type": "code",
   "execution_count": 3,
   "id": "2229cabc",
   "metadata": {},
   "outputs": [
    {
     "name": "stdout",
     "output_type": "stream",
     "text": [
      "current date and time is :\n",
      "21-10-26 00:12:15\n"
     ]
    }
   ],
   "source": [
    "# current date and time\n",
    "import datetime\n",
    "now=datetime.datetime.now()\n",
    "print(\"current date and time is :\")\n",
    "print(now.strftime(\"%y-%m-%d %H:%M:%S\"))"
   ]
  },
  {
   "cell_type": "code",
   "execution_count": null,
   "id": "17e57a04",
   "metadata": {},
   "outputs": [],
   "source": [
    "# compute the area\n",
    "r=int(input(\"Enter radius of a circle\"))\n",
    "a=3.142*r**2\n",
    "print(\"Area of a circle is,a\")\n"
   ]
  },
  {
   "cell_type": "code",
   "execution_count": 2,
   "id": "98202db6",
   "metadata": {},
   "outputs": [
    {
     "name": "stdout",
     "output_type": "stream",
     "text": [
      "Enter your first nameiqra\n",
      "Enter your last nameilyas\n",
      "ilyas iqra\n"
     ]
    }
   ],
   "source": [
    "# Write a Python program which accepts the user's first and last name and print them in\n",
    "# reverse order with a space between them.\n",
    "firstname = input(\"Enter your first name\")\n",
    "lastname = input(\"Enter your last name\")\n",
    "print(lastname+\" \"+firstname)"
   ]
  },
  {
   "cell_type": "code",
   "execution_count": 4,
   "id": "1c1dbd16",
   "metadata": {},
   "outputs": [
    {
     "name": "stdout",
     "output_type": "stream",
     "text": [
      "enter the value of a2\n",
      "enter the value of b3\n",
      "sum= 5\n"
     ]
    }
   ],
   "source": [
    "# Write a Python program which accepts the user's first and last name and print them in\n",
    "# reverse order with a space between them.\n",
    "a=int(input(\"enter the value of a\"))\n",
    "b=int(input(\"enter the value of b\"))\n",
    "print(\"sum=\",a+b)"
   ]
  },
  {
   "cell_type": "code",
   "execution_count": 5,
   "id": "465d8366",
   "metadata": {},
   "outputs": [
    {
     "name": "stdout",
     "output_type": "stream",
     "text": [
      "i will make your mark sheet but before making it,i need to know your marks \n",
      "please type your marks Math 85\n",
      "please type your marks English 70\n",
      "please type your marks Chemistry 88\n",
      "please type your marks Physic 90\n",
      "please type your marks Biology 99\n",
      "your marksheet is ready\n",
      "Math = 85\n",
      "English = 70\n",
      "Chemistry = 88\n",
      "Physic = 90\n",
      "Biology = 99\n",
      "Total marks = 432\n",
      "% 86.4\n",
      "your Grade is A+\n"
     ]
    }
   ],
   "source": [
    "# Write a program which takes 5 inputs from user for different subject’s marks, total it\n",
    "# and generate mark sheet using grades ?\n",
    "print('i will make your mark sheet but before making it,i need to know your marks ')\n",
    "Math = input('please type your marks Math ')\n",
    "English = input('please type your marks English ')\n",
    "Chemistry = input('please type your marks Chemistry ')\n",
    "Physic = input('please type your marks Physic ')\n",
    "Biology = input('please type your marks Biology ')\n",
    "print('your marksheet is ready')\n",
    "print('Math = ' + Math)\n",
    "print('English = ' + English)\n",
    "print('Chemistry = '+ Chemistry)\n",
    "print('Physic = '+ Physic)\n",
    "print('Biology = '+ Biology)\n",
    "Total = int(Math) + int(English) + int(Chemistry) + int(Physic) + int(Biology)\n",
    "print('Total marks = ' + str(Total))\n",
    "Percentage =(Total/500)*100\n",
    "print('% ' + str(Percentage))\n",
    "if Total > 400 :\n",
    "    print('your Grade is A+')\n",
    "elif Total > 300 :\n",
    "    print('your Grade is A')\n",
    "elif Total > 200 :\n",
    "    print('your Grade is B')\n",
    "elif Total > 100 :\n",
    "    print('your Grade is C')\n",
    "else:\n",
    "    print('you fail')\n",
    "    "
   ]
  },
  {
   "cell_type": "code",
   "execution_count": 9,
   "id": "0d2af8bb",
   "metadata": {},
   "outputs": [
    {
     "name": "stdout",
     "output_type": "stream",
     "text": [
      "enter a number7\n",
      "7 is odd\n"
     ]
    }
   ],
   "source": [
    "# 8. Write a program which take input from user and identify that the given number is even\n",
    "# or odd?\n",
    "x=int(input(\"enter a number\"))\n",
    "if x%2==0:\n",
    "    print(x,\"is even\")\n",
    "else:\n",
    "    print(x,\"is odd\")\n"
   ]
  },
  {
   "cell_type": "code",
   "execution_count": 10,
   "id": "5cae171b",
   "metadata": {},
   "outputs": [
    {
     "name": "stdout",
     "output_type": "stream",
     "text": [
      "7\n"
     ]
    }
   ],
   "source": [
    "# 8. Write a program which take input from user and identify that the given number is even\n",
    "# or odd?\n",
    "list=[1,3,3,5,6,7,8]\n",
    "print(len(list))"
   ]
  },
  {
   "cell_type": "code",
   "execution_count": 13,
   "id": "1abd39c2",
   "metadata": {},
   "outputs": [
    {
     "name": "stdout",
     "output_type": "stream",
     "text": [
      "149\n"
     ]
    }
   ],
   "source": [
    "# 10.Write a Python program to sum all the numeric items in a list?\n",
    "list=[5,10,120,12,2]\n",
    "print(sum(list))\n"
   ]
  },
  {
   "cell_type": "code",
   "execution_count": 15,
   "id": "bb83de4a",
   "metadata": {},
   "outputs": [
    {
     "name": "stdout",
     "output_type": "stream",
     "text": [
      "largest element is: (20, 100, 1, 10, 1000)\n"
     ]
    }
   ],
   "source": [
    "# 11.Write a Python program to get the largest number from a numeric list.\n",
    "list=[20,100,1,10,1000]\n",
    "print(\"largest element is:\",(list))"
   ]
  },
  {
   "cell_type": "code",
   "execution_count": 17,
   "id": "6cdb20bd",
   "metadata": {},
   "outputs": [
    {
     "name": "stdout",
     "output_type": "stream",
     "text": [
      "[1, 1, 2, 3]\n"
     ]
    }
   ],
   "source": [
    "# Take a list, say for example this one:\n",
    "a = [1, 1, 2, 3, 5, 8, 13, 21, 34, 55, 89]\n",
    "# Write a program that prints out all the elements of the list that are less than 5\n",
    "a = [1, 1, 2, 3, 5, 8, 13, 21, 34, 55, 89] \n",
    "# Write a program that prints out all the elements of the list that are less than 5.\n",
    "b=[]\n",
    "for i in range(len(a)):\n",
    "    if 5>a[i] :\n",
    "        b.append(a[i])\n",
    "        \n",
    "print(b)     "
   ]
  },
  {
   "cell_type": "code",
   "execution_count": null,
   "id": "a338a00f",
   "metadata": {},
   "outputs": [],
   "source": []
  }
 ],
 "metadata": {
  "kernelspec": {
   "display_name": "Python 3",
   "language": "python",
   "name": "python3"
  },
  "language_info": {
   "codemirror_mode": {
    "name": "ipython",
    "version": 3
   },
   "file_extension": ".py",
   "mimetype": "text/x-python",
   "name": "python",
   "nbconvert_exporter": "python",
   "pygments_lexer": "ipython3",
   "version": "3.8.8"
  }
 },
 "nbformat": 4,
 "nbformat_minor": 5
}
